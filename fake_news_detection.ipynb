{
 "cells": [
  {
   "cell_type": "markdown",
   "metadata": {},
   "source": [
    "## Detecting fake news with machine learning"
   ]
  },
  {
   "cell_type": "code",
   "execution_count": 1,
   "metadata": {},
   "outputs": [
    {
     "name": "stdout",
     "output_type": "stream",
     "text": [
      "Collecting package metadata (current_repodata.json): done\n",
      "Solving environment: done\n",
      "\n",
      "## Package Plan ##\n",
      "\n",
      "  environment location: /Users/katie/opt/anaconda3\n",
      "\n",
      "\n",
      "The following packages will be downloaded:\n",
      "\n",
      "    package                    |            build\n",
      "    ---------------------------|-----------------\n",
      "    anaconda-navigator-1.10.0  |           py37_0         6.1 MB\n",
      "    argon2-cffi-20.1.0         |   py37h9ed2024_1          44 KB\n",
      "    backcall-0.2.0             |     pyhd3eb1b0_0          13 KB\n",
      "    backports.tempfile-1.0     |     pyhd3eb1b0_1          11 KB\n",
      "    beautifulsoup4-4.9.3       |     pyha847dfd_0          86 KB\n",
      "    bleach-3.3.0               |     pyhd3eb1b0_0         113 KB\n",
      "    blosc-1.21.0               |       h2842e9f_0          49 KB\n",
      "    boto3-1.17.11              |     pyhd3eb1b0_0          70 KB\n",
      "    botocore-1.20.12           |     pyhd3eb1b0_1         3.5 MB\n",
      "    brunsli-0.1                |       h23ab428_0         142 KB\n",
      "    cctools-927.0.2            |       h5ba7a2e_4         965 KB\n",
      "    cffi-1.14.5                |   py37h2125817_0         214 KB\n",
      "    click-7.1.2                |     pyhd3eb1b0_0          64 KB\n",
      "    conda-build-3.21.4         |   py37hecd8cb5_0         545 KB\n",
      "    cryptography-3.3.1         |   py37hbcfaee0_1         559 KB\n",
      "    cython-0.29.21             |   py37h23ab428_0         1.8 MB\n",
      "    dask-core-2021.2.0         |     pyhd3eb1b0_0         643 KB\n",
      "    decorator-4.4.2            |     pyhd3eb1b0_0          12 KB\n",
      "    defusedxml-0.6.0           |     pyhd3eb1b0_0          23 KB\n",
      "    ephem-3.7.7.1              |   py37haf1e3a3_0         708 KB\n",
      "    filelock-3.0.12            |     pyhd3eb1b0_1          10 KB\n",
      "    flask-1.1.2                |     pyhd3eb1b0_0          70 KB\n",
      "    gettext-0.19.8.1           |       hb0f4f8b_2         2.7 MB\n",
      "    glib-2.67.4                |       hdf23fa2_1         2.7 MB\n",
      "    glob2-0.7                  |     pyhd3eb1b0_0          12 KB\n",
      "    harfbuzz-2.4.0             |       h831d699_1         673 KB\n",
      "    idna-2.10                  |     pyhd3eb1b0_0          52 KB\n",
      "    imagecodecs-2021.1.11      |   py37h2ea9c00_1         5.4 MB\n",
      "    iniconfig-1.1.1            |     pyhd3eb1b0_0           8 KB\n",
      "    ipython-7.20.0             |   py37h01d92e1_1         978 KB\n",
      "    ipywidgets-7.6.3           |     pyhd3eb1b0_1         105 KB\n",
      "    jinja2-2.11.3              |     pyhd3eb1b0_0         101 KB\n",
      "    joblib-1.0.1               |     pyhd3eb1b0_0         208 KB\n",
      "    jupyter_core-4.7.1         |   py37hecd8cb5_0          68 KB\n",
      "    kiwisolver-1.3.1           |   py37h23ab428_0          52 KB\n",
      "    ld64-450.3                 |       h3c32e8a_4         858 KB\n",
      "    lerc-2.2.1                 |       h23ab428_0         143 KB\n",
      "    libdeflate-1.7             |       h9ed2024_5          52 KB\n",
      "    libffi-3.3                 |       hb1e8313_2          44 KB\n",
      "    libllvm10-10.0.1           |       h76017ad_5        16.4 MB\n",
      "    lz4-c-1.9.3                |       h23ab428_0         140 KB\n",
      "    matplotlib-3.3.4           |   py37hecd8cb5_0          26 KB\n",
      "    matplotlib-base-3.3.4      |   py37h8b3ea08_0         5.1 MB\n",
      "    mkl_fft-1.2.1              |   py37ha059aab_0         141 KB\n",
      "    more-itertools-8.7.0       |     pyhd3eb1b0_0          42 KB\n",
      "    nbclient-0.5.2             |     pyhd3eb1b0_0          58 KB\n",
      "    nbformat-5.1.2             |     pyhd3eb1b0_1          68 KB\n",
      "    nest-asyncio-1.5.1         |     pyhd3eb1b0_0          10 KB\n",
      "    notebook-6.2.0             |   py37hecd8cb5_0         4.1 MB\n",
      "    openssl-1.1.1j             |       h9ed2024_0         2.2 MB\n",
      "    packaging-20.9             |     pyhd3eb1b0_0          37 KB\n",
      "    pandas-1.2.2               |   py37hb2f4e1b_0         8.1 MB\n",
      "    pango-1.45.3               |       h7a6c989_0         253 KB\n",
      "    parsel-1.5.2               |   py37hecd8cb5_0         262 KB\n",
      "    pip-21.0.1                 |   py37hecd8cb5_0         1.8 MB\n",
      "    pkginfo-1.7.0              |   py37hecd8cb5_0          42 KB\n",
      "    plotly-4.14.3              |     pyhd3eb1b0_0         3.6 MB\n",
      "    psutil-5.8.0               |   py37h9ed2024_1         336 KB\n",
      "    pydispatcher-2.0.5         |   py37hecd8cb5_1          20 KB\n",
      "    pygments-2.8.0             |     pyhd3eb1b0_0         703 KB\n",
      "    pyparsing-2.4.7            |     pyhd3eb1b0_0          59 KB\n",
      "    pytest-6.2.2               |   py37hecd8cb5_2         435 KB\n",
      "    pytest-runner-5.3.0        |     pyhd3eb1b0_0          11 KB\n",
      "    python-dateutil-2.8.1      |     pyhd3eb1b0_0         221 KB\n",
      "    python-libarchive-c-2.9    |     pyhd3eb1b0_0          46 KB\n",
      "    python.app-3               |   py37h9ed2024_0          20 KB\n",
      "    pytz-2018.9                |           py37_0         198 KB\n",
      "    pyyaml-5.4.1               |   py37h9ed2024_1         162 KB\n",
      "    s3transfer-0.3.4           |     pyhd3eb1b0_0          53 KB\n",
      "    scipy-1.6.0                |   py37h2515648_0        14.4 MB\n",
      "    setuptools-52.0.0          |   py37hecd8cb5_0         721 KB\n",
      "    sqlalchemy-1.3.23          |   py37h9ed2024_0         1.5 MB\n",
      "    tapi-1000.10.8             |       ha1b3eb9_0         4.2 MB\n",
      "    termcolor-1.1.0            |   py37hecd8cb5_1           9 KB\n",
      "    testpath-0.4.4             |     pyhd3eb1b0_0          85 KB\n",
      "    tifffile-2021.1.14         |     pyhd3eb1b0_1         126 KB\n",
      "    toolz-0.11.1               |     pyhd3eb1b0_0          46 KB\n",
      "    tqdm-4.56.0                |     pyhd3eb1b0_0          80 KB\n",
      "    traitlets-5.0.5            |     pyhd3eb1b0_0          81 KB\n",
      "    urllib3-1.26.3             |     pyhd3eb1b0_0         105 KB\n",
      "    werkzeug-1.0.1             |     pyhd3eb1b0_0         239 KB\n",
      "    zfp-0.5.5                  |       h23ab428_4         147 KB\n",
      "    ------------------------------------------------------------\n",
      "                                           Total:        96.0 MB\n",
      "\n",
      "The following NEW packages will be INSTALLED:\n",
      "\n",
      "  brunsli            pkgs/main/osx-64::brunsli-0.1-h23ab428_0\n",
      "  lerc               pkgs/main/osx-64::lerc-2.2.1-h23ab428_0\n",
      "  libdeflate         pkgs/main/osx-64::libdeflate-1.7-h9ed2024_5\n",
      "  zfp                pkgs/main/osx-64::zfp-0.5.5-h23ab428_4\n",
      "\n",
      "The following packages will be REMOVED:\n",
      "\n",
      "  cctools_osx-64-949.0.1-h5ba7a2e_1\n",
      "  docutils-0.16-py37_1\n",
      "  ld64_osx-64-530-h3c32e8a_1\n",
      "\n",
      "The following packages will be UPDATED:\n",
      "\n",
      "  anaconda-navigator                          1.9.12-py37_0 --> 1.10.0-py37_0\n",
      "  bleach                                         3.2.1-py_0 --> 3.3.0-pyhd3eb1b0_0\n",
      "  blosc                                   1.20.1-hab81aa3_0 --> 1.21.0-h2842e9f_0\n",
      "  boto3               pkgs/main/osx-64::boto3-1.9.66-py37_0 --> pkgs/main/noarch::boto3-1.17.11-pyhd3eb1b0_0\n",
      "  botocore           pkgs/main/osx-64::botocore-1.12.67-py~ --> pkgs/main/noarch::botocore-1.20.12-pyhd3eb1b0_1\n",
      "  cffi                                1.14.0-py37hb5b8e2f_0 --> 1.14.5-py37h2125817_0\n",
      "  conda-build                                3.18.11-py37_0 --> 3.21.4-py37hecd8cb5_0\n",
      "  cryptography                         3.3.1-py37hbcfaee0_0 --> 3.3.1-py37hbcfaee0_1\n",
      "  dask-core                          2020.12.0-pyhd3eb1b0_0 --> 2021.2.0-pyhd3eb1b0_0\n",
      "  filelock                                      3.0.12-py_0 --> 3.0.12-pyhd3eb1b0_1\n",
      "  glib                                    2.63.1-hd977a24_0 --> 2.67.4-hdf23fa2_1\n",
      "  harfbuzz                                 2.4.0-h831d699_0 --> 2.4.0-h831d699_1\n",
      "  imagecodecs                      2020.5.30-py37hd12e0e9_2 --> 2021.1.11-py37h2ea9c00_1\n",
      "  ipython                             7.19.0-py37h01d92e1_0 --> 7.20.0-py37h01d92e1_1\n",
      "  ipywidgets                             7.6.3-pyhd3eb1b0_0 --> 7.6.3-pyhd3eb1b0_1\n",
      "  jinja2                                        2.11.2-py_0 --> 2.11.3-pyhd3eb1b0_0\n",
      "  joblib                                 1.0.0-pyhd3eb1b0_0 --> 1.0.1-pyhd3eb1b0_0\n",
      "  jupyter_core                         4.7.0-py37hecd8cb5_0 --> 4.7.1-py37hecd8cb5_0\n",
      "  kiwisolver                           1.3.0-py37h23ab428_0 --> 1.3.1-py37h23ab428_0\n",
      "  libffi                                3.2.1-h0a44026_1007 --> 3.3-hb1e8313_2\n",
      "  libllvm10          conda-forge::libllvm10-10.0.1-h009f74~ --> pkgs/main::libllvm10-10.0.1-h76017ad_5\n",
      "  lz4-c                                    1.9.2-h79c402e_3 --> 1.9.3-h23ab428_0\n",
      "  matplotlib                               3.3.2-hecd8cb5_0 --> 3.3.4-py37hecd8cb5_0\n",
      "  matplotlib-base                      3.3.2-py37h181983e_0 --> 3.3.4-py37h8b3ea08_0\n",
      "  mkl_fft                              1.2.0-py37hc64f4ea_0 --> 1.2.1-py37ha059aab_0\n",
      "  more-itertools                         8.6.0-pyhd3eb1b0_0 --> 8.7.0-pyhd3eb1b0_0\n",
      "  nbclient                                       0.5.1-py_0 --> 0.5.2-pyhd3eb1b0_0\n",
      "  nbformat                                       5.0.8-py_0 --> 5.1.2-pyhd3eb1b0_1\n",
      "  nest-asyncio                           1.4.3-pyhd3eb1b0_0 --> 1.5.1-pyhd3eb1b0_0\n",
      "  notebook                             6.1.6-py37hecd8cb5_0 --> 6.2.0-py37hecd8cb5_0\n",
      "  openssl                                 1.1.1i-h9ed2024_0 --> 1.1.1j-h9ed2024_0\n",
      "  packaging                               20.8-pyhd3eb1b0_0 --> 20.9-pyhd3eb1b0_0\n",
      "  pandas                               1.2.0-py37hb2f4e1b_0 --> 1.2.2-py37hb2f4e1b_0\n",
      "  pango                                   1.42.4-hc249df1_1 --> 1.45.3-h7a6c989_0\n",
      "  pip                                 20.3.3-py37hecd8cb5_0 --> 21.0.1-py37hecd8cb5_0\n",
      "  pkginfo                              1.6.1-py37hecd8cb5_0 --> 1.7.0-py37hecd8cb5_0\n",
      "  plotly                                4.14.2-pyhd3eb1b0_0 --> 4.14.3-pyhd3eb1b0_0\n",
      "  psutil                               5.7.2-py37haf1e3a3_0 --> 5.8.0-py37h9ed2024_1\n",
      "  pygments                               2.7.3-pyhd3eb1b0_0 --> 2.8.0-pyhd3eb1b0_0\n",
      "  pytest                               6.2.1-py37hecd8cb5_0 --> 6.2.2-py37hecd8cb5_2\n",
      "  pytest-runner                                    5.2-py_0 --> 5.3.0-pyhd3eb1b0_0\n",
      "  python.app                                      2-py37_10 --> 3-py37h9ed2024_0\n",
      "  pyyaml                               5.3.1-py37haf1e3a3_1 --> 5.4.1-py37h9ed2024_1\n",
      "  s3transfer         pkgs/main/osx-64::s3transfer-0.1.13-p~ --> pkgs/main/noarch::s3transfer-0.3.4-pyhd3eb1b0_0\n",
      "  scipy                                1.5.2-py37h912ce22_0 --> 1.6.0-py37h2515648_0\n",
      "  setuptools                          51.1.2-py37hecd8cb5_3 --> 52.0.0-py37hecd8cb5_0\n",
      "  sqlalchemy                          1.3.21-py37h9ed2024_0 --> 1.3.23-py37h9ed2024_0\n",
      "  tifffile                            2021.1.8-pyhd3eb1b0_0 --> 2021.1.14-pyhd3eb1b0_1\n",
      "  tqdm                                  4.55.1-pyhd3eb1b0_0 --> 4.56.0-pyhd3eb1b0_0\n",
      "  urllib3            pkgs/main/osx-64::urllib3-1.24.3-py37~ --> pkgs/main/noarch::urllib3-1.26.3-pyhd3eb1b0_0\n",
      "\n",
      "The following packages will be SUPERSEDED by a higher-priority channel:\n",
      "\n",
      "  cctools            conda-forge::cctools-949.0.1-h22b1bf0~ --> pkgs/main::cctools-927.0.2-h5ba7a2e_4\n",
      "  cython             conda-forge::cython-0.29.21-py37h54c7~ --> pkgs/main::cython-0.29.21-py37h23ab428_0\n",
      "  ephem              conda-forge::ephem-3.7.7.1-py37h60d8a~ --> pkgs/main::ephem-3.7.7.1-py37haf1e3a3_0\n",
      "  ld64                              conda-forge::ld64-530-1 --> pkgs/main::ld64-450.3-h3c32e8a_4\n",
      "  pytz                 conda-forge/noarch::pytz-2019.3-py_0 --> pkgs/main/osx-64::pytz-2018.9-py37_0\n",
      "  tapi               conda-forge::tapi-1000.10.8-h879752b_4 --> pkgs/main::tapi-1000.10.8-ha1b3eb9_0\n",
      "\n",
      "The following packages will be DOWNGRADED:\n",
      "\n",
      "  argon2-cffi                         20.1.0-py37haf1e3a3_1 --> 20.1.0-py37h9ed2024_1\n",
      "  backcall                                       0.2.0-py_0 --> 0.2.0-pyhd3eb1b0_0\n",
      "  backports.tempfile                               1.0-py_1 --> 1.0-pyhd3eb1b0_1\n",
      "  beautifulsoup4                         4.9.3-pyhb0f4dca_0 --> 4.9.3-pyha847dfd_0\n",
      "  click                                          7.1.2-py_0 --> 7.1.2-pyhd3eb1b0_0\n",
      "  decorator                                      4.4.2-py_0 --> 4.4.2-pyhd3eb1b0_0\n",
      "  defusedxml                                     0.6.0-py_0 --> 0.6.0-pyhd3eb1b0_0\n",
      "  flask                                          1.1.2-py_0 --> 1.1.2-pyhd3eb1b0_0\n",
      "  gettext                               0.19.8.1-h15daf44_3 --> 0.19.8.1-hb0f4f8b_2\n",
      "  glob2                                            0.7-py_0 --> 0.7-pyhd3eb1b0_0\n",
      "  idna                                            2.10-py_0 --> 2.10-pyhd3eb1b0_0\n",
      "  iniconfig                                      1.1.1-py_0 --> 1.1.1-pyhd3eb1b0_0\n",
      "  parsel                                       1.5.2-py37_0 --> 1.5.2-py37hecd8cb5_0\n",
      "  pydispatcher                                 2.0.5-py37_1 --> 2.0.5-py37hecd8cb5_1\n",
      "  pyparsing                                      2.4.7-py_0 --> 2.4.7-pyhd3eb1b0_0\n",
      "  python-dateutil                                2.8.1-py_0 --> 2.8.1-pyhd3eb1b0_0\n",
      "  python-libarchive~                               2.9-py_0 --> 2.9-pyhd3eb1b0_0\n",
      "  termcolor                                    1.1.0-py37_1 --> 1.1.0-py37hecd8cb5_1\n",
      "  testpath                                       0.4.4-py_0 --> 0.4.4-pyhd3eb1b0_0\n",
      "  toolz                                         0.11.1-py_0 --> 0.11.1-pyhd3eb1b0_0\n",
      "  traitlets                                      5.0.5-py_0 --> 5.0.5-pyhd3eb1b0_0\n",
      "  werkzeug                                       1.0.1-py_0 --> 1.0.1-pyhd3eb1b0_0\n",
      "\n",
      "\n",
      "\n",
      "Downloading and Extracting Packages\n"
     ]
    },
    {
     "name": "stdout",
     "output_type": "stream",
     "text": [
      "ld64-450.3           | 858 KB    | ##################################### | 100% \n",
      "psutil-5.8.0         | 336 KB    | ##################################### | 100% \n",
      "kiwisolver-1.3.1     | 52 KB     | ##################################### | 100% \n",
      "nest-asyncio-1.5.1   | 10 KB     | ##################################### | 100% \n",
      "bleach-3.3.0         | 113 KB    | ##################################### | 100% \n",
      "openssl-1.1.1j       | 2.2 MB    | ##################################### | 100% \n",
      "packaging-20.9       | 37 KB     | ##################################### | 100% \n",
      "setuptools-52.0.0    | 721 KB    | ##################################### | 100% \n",
      "parsel-1.5.2         | 262 KB    | ##################################### | 100% \n",
      "urllib3-1.26.3       | 105 KB    | ##################################### | 100% \n",
      "tifffile-2021.1.14   | 126 KB    | ##################################### | 100% \n",
      "conda-build-3.21.4   | 545 KB    | ##################################### | 100% \n",
      "nbformat-5.1.2       | 68 KB     | ##################################### | 100% \n",
      "pandas-1.2.2         | 8.1 MB    | ##################################### | 100% \n",
      "matplotlib-base-3.3. | 5.1 MB    | ##################################### | 100% \n",
      "idna-2.10            | 52 KB     | ##################################### | 100% \n",
      "cffi-1.14.5          | 214 KB    | ##################################### | 100% \n",
      "tapi-1000.10.8       | 4.2 MB    | ##################################### | 100% \n",
      "pyyaml-5.4.1         | 162 KB    | ##################################### | 100% \n",
      "more-itertools-8.7.0 | 42 KB     | ##################################### | 100% \n",
      "argon2-cffi-20.1.0   | 44 KB     | ##################################### | 100% \n",
      "joblib-1.0.1         | 208 KB    | ##################################### | 100% \n",
      "jinja2-2.11.3        | 101 KB    | ##################################### | 100% \n",
      "iniconfig-1.1.1      | 8 KB      | ##################################### | 100% \n",
      "s3transfer-0.3.4     | 53 KB     | ##################################### | 100% \n",
      "ipython-7.20.0       | 978 KB    | ##################################### | 100% \n",
      "libllvm10-10.0.1     | 16.4 MB   | ##################################### | 100% \n",
      "pygments-2.8.0       | 703 KB    | ##################################### | 100% \n",
      "backcall-0.2.0       | 13 KB     | ##################################### | 100% \n",
      "werkzeug-1.0.1       | 239 KB    | ##################################### | 100% \n",
      "cython-0.29.21       | 1.8 MB    | ##################################### | 100% \n",
      "jupyter_core-4.7.1   | 68 KB     | ##################################### | 100% \n",
      "pytest-runner-5.3.0  | 11 KB     | ##################################### | 100% \n",
      "libdeflate-1.7       | 52 KB     | ##################################### | 100% \n",
      "click-7.1.2          | 64 KB     | ##################################### | 100% \n",
      "python.app-3         | 20 KB     | ##################################### | 100% \n",
      "dask-core-2021.2.0   | 643 KB    | ##################################### | 100% \n",
      "lerc-2.2.1           | 143 KB    | ##################################### | 100% \n",
      "traitlets-5.0.5      | 81 KB     | ##################################### | 100% \n",
      "pip-21.0.1           | 1.8 MB    | ##################################### | 100% \n",
      "sqlalchemy-1.3.23    | 1.5 MB    | ##################################### | 100% \n",
      "cctools-927.0.2      | 965 KB    | ##################################### | 100% \n",
      "pkginfo-1.7.0        | 42 KB     | ##################################### | 100% \n",
      "ephem-3.7.7.1        | 708 KB    | ##################################### | 100% \n",
      "toolz-0.11.1         | 46 KB     | ##################################### | 100% \n",
      "boto3-1.17.11        | 70 KB     | ##################################### | 100% \n",
      "python-dateutil-2.8. | 221 KB    | ##################################### | 100% \n",
      "pango-1.45.3         | 253 KB    | ##################################### | 100% \n",
      "notebook-6.2.0       | 4.1 MB    | ##################################### | 100% \n",
      "pydispatcher-2.0.5   | 20 KB     | ##################################### | 100% \n",
      "harfbuzz-2.4.0       | 673 KB    | ##################################### | 100% \n",
      "anaconda-navigator-1 | 6.1 MB    | ##################################### | 100% \n",
      "pyparsing-2.4.7      | 59 KB     | ##################################### | 100% \n",
      "termcolor-1.1.0      | 9 KB      | ##################################### | 100% \n",
      "brunsli-0.1          | 142 KB    | ##################################### | 100% \n",
      "blosc-1.21.0         | 49 KB     | ##################################### | 100% \n",
      "pytz-2018.9          | 198 KB    | ##################################### | 100% \n",
      "pytest-6.2.2         | 435 KB    | ##################################### | 100% \n",
      "mkl_fft-1.2.1        | 141 KB    | ##################################### | 100% \n",
      "testpath-0.4.4       | 85 KB     | ##################################### | 100% \n",
      "beautifulsoup4-4.9.3 | 86 KB     | ##################################### | 100% \n",
      "libffi-3.3           | 44 KB     | ##################################### | 100% \n",
      "lz4-c-1.9.3          | 140 KB    | ##################################### | 100% \n",
      "imagecodecs-2021.1.1 | 5.4 MB    | ##################################### | 100% \n",
      "gettext-0.19.8.1     | 2.7 MB    | ##################################### | 100% \n",
      "scipy-1.6.0          | 14.4 MB   | ##################################### | 100% \n",
      "backports.tempfile-1 | 11 KB     | ##################################### | 100% \n",
      "matplotlib-3.3.4     | 26 KB     | ##################################### | 100% \n",
      "filelock-3.0.12      | 10 KB     | ##################################### | 100% \n",
      "tqdm-4.56.0          | 80 KB     | ##################################### | 100% \n",
      "plotly-4.14.3        | 3.6 MB    | ##################################### | 100% \n",
      "flask-1.1.2          | 70 KB     | ##################################### | 100% \n",
      "glib-2.67.4          | 2.7 MB    | ##################################### | 100% \n",
      "nbclient-0.5.2       | 58 KB     | ##################################### | 100% \n",
      "ipywidgets-7.6.3     | 105 KB    | ##################################### | 100% \n",
      "decorator-4.4.2      | 12 KB     | ##################################### | 100% \n",
      "zfp-0.5.5            | 147 KB    | ##################################### | 100% \n",
      "python-libarchive-c- | 46 KB     | ##################################### | 100% \n",
      "defusedxml-0.6.0     | 23 KB     | ##################################### | 100% \n",
      "botocore-1.20.12     | 3.5 MB    | ##################################### | 100% \n",
      "glob2-0.7            | 12 KB     | ##################################### | 100% \n",
      "cryptography-3.3.1   | 559 KB    | ##################################### | 100% \n",
      "Preparing transaction: done\n",
      "Verifying transaction: done\n",
      "Executing transaction: done\n",
      "\n",
      "Note: you may need to restart the kernel to use updated packages.\n"
     ]
    }
   ],
   "source": [
    "conda update --all"
   ]
  },
  {
   "cell_type": "code",
   "execution_count": 2,
   "metadata": {},
   "outputs": [],
   "source": [
    "#import libraries\n",
    "import pandas as pd\n",
    "import numpy as np\n",
    "import re\n",
    "import string\n",
    "\n",
    "from sklearn.model_selection import train_test_split\n",
    "from sklearn.metrics import classification_report"
   ]
  },
  {
   "cell_type": "code",
   "execution_count": 3,
   "metadata": {},
   "outputs": [],
   "source": [
    "#load datasets\n",
    "df_fake = pd.read_csv(\"Fake.csv\")\n",
    "df_true = pd.read_csv(\"True.csv\")"
   ]
  },
  {
   "cell_type": "code",
   "execution_count": 4,
   "metadata": {},
   "outputs": [
    {
     "data": {
      "text/html": [
       "<div>\n",
       "<style scoped>\n",
       "    .dataframe tbody tr th:only-of-type {\n",
       "        vertical-align: middle;\n",
       "    }\n",
       "\n",
       "    .dataframe tbody tr th {\n",
       "        vertical-align: top;\n",
       "    }\n",
       "\n",
       "    .dataframe thead th {\n",
       "        text-align: right;\n",
       "    }\n",
       "</style>\n",
       "<table border=\"1\" class=\"dataframe\">\n",
       "  <thead>\n",
       "    <tr style=\"text-align: right;\">\n",
       "      <th></th>\n",
       "      <th>title</th>\n",
       "      <th>text</th>\n",
       "      <th>subject</th>\n",
       "      <th>date</th>\n",
       "    </tr>\n",
       "  </thead>\n",
       "  <tbody>\n",
       "    <tr>\n",
       "      <th>0</th>\n",
       "      <td>Donald Trump Sends Out Embarrassing New Year’...</td>\n",
       "      <td>Donald Trump just couldn t wish all Americans ...</td>\n",
       "      <td>News</td>\n",
       "      <td>December 31, 2017</td>\n",
       "    </tr>\n",
       "    <tr>\n",
       "      <th>1</th>\n",
       "      <td>Drunk Bragging Trump Staffer Started Russian ...</td>\n",
       "      <td>House Intelligence Committee Chairman Devin Nu...</td>\n",
       "      <td>News</td>\n",
       "      <td>December 31, 2017</td>\n",
       "    </tr>\n",
       "    <tr>\n",
       "      <th>2</th>\n",
       "      <td>Sheriff David Clarke Becomes An Internet Joke...</td>\n",
       "      <td>On Friday, it was revealed that former Milwauk...</td>\n",
       "      <td>News</td>\n",
       "      <td>December 30, 2017</td>\n",
       "    </tr>\n",
       "    <tr>\n",
       "      <th>3</th>\n",
       "      <td>Trump Is So Obsessed He Even Has Obama’s Name...</td>\n",
       "      <td>On Christmas day, Donald Trump announced that ...</td>\n",
       "      <td>News</td>\n",
       "      <td>December 29, 2017</td>\n",
       "    </tr>\n",
       "    <tr>\n",
       "      <th>4</th>\n",
       "      <td>Pope Francis Just Called Out Donald Trump Dur...</td>\n",
       "      <td>Pope Francis used his annual Christmas Day mes...</td>\n",
       "      <td>News</td>\n",
       "      <td>December 25, 2017</td>\n",
       "    </tr>\n",
       "  </tbody>\n",
       "</table>\n",
       "</div>"
      ],
      "text/plain": [
       "                                               title  \\\n",
       "0   Donald Trump Sends Out Embarrassing New Year’...   \n",
       "1   Drunk Bragging Trump Staffer Started Russian ...   \n",
       "2   Sheriff David Clarke Becomes An Internet Joke...   \n",
       "3   Trump Is So Obsessed He Even Has Obama’s Name...   \n",
       "4   Pope Francis Just Called Out Donald Trump Dur...   \n",
       "\n",
       "                                                text subject  \\\n",
       "0  Donald Trump just couldn t wish all Americans ...    News   \n",
       "1  House Intelligence Committee Chairman Devin Nu...    News   \n",
       "2  On Friday, it was revealed that former Milwauk...    News   \n",
       "3  On Christmas day, Donald Trump announced that ...    News   \n",
       "4  Pope Francis used his annual Christmas Day mes...    News   \n",
       "\n",
       "                date  \n",
       "0  December 31, 2017  \n",
       "1  December 31, 2017  \n",
       "2  December 30, 2017  \n",
       "3  December 29, 2017  \n",
       "4  December 25, 2017  "
      ]
     },
     "execution_count": 4,
     "metadata": {},
     "output_type": "execute_result"
    }
   ],
   "source": [
    "#initial exploration\n",
    "df_fake.head()"
   ]
  },
  {
   "cell_type": "code",
   "execution_count": 5,
   "metadata": {},
   "outputs": [
    {
     "data": {
      "text/html": [
       "<div>\n",
       "<style scoped>\n",
       "    .dataframe tbody tr th:only-of-type {\n",
       "        vertical-align: middle;\n",
       "    }\n",
       "\n",
       "    .dataframe tbody tr th {\n",
       "        vertical-align: top;\n",
       "    }\n",
       "\n",
       "    .dataframe thead th {\n",
       "        text-align: right;\n",
       "    }\n",
       "</style>\n",
       "<table border=\"1\" class=\"dataframe\">\n",
       "  <thead>\n",
       "    <tr style=\"text-align: right;\">\n",
       "      <th></th>\n",
       "      <th>title</th>\n",
       "      <th>text</th>\n",
       "      <th>subject</th>\n",
       "      <th>date</th>\n",
       "    </tr>\n",
       "  </thead>\n",
       "  <tbody>\n",
       "    <tr>\n",
       "      <th>0</th>\n",
       "      <td>As U.S. budget fight looms, Republicans flip t...</td>\n",
       "      <td>WASHINGTON (Reuters) - The head of a conservat...</td>\n",
       "      <td>politicsNews</td>\n",
       "      <td>December 31, 2017</td>\n",
       "    </tr>\n",
       "    <tr>\n",
       "      <th>1</th>\n",
       "      <td>U.S. military to accept transgender recruits o...</td>\n",
       "      <td>WASHINGTON (Reuters) - Transgender people will...</td>\n",
       "      <td>politicsNews</td>\n",
       "      <td>December 29, 2017</td>\n",
       "    </tr>\n",
       "    <tr>\n",
       "      <th>2</th>\n",
       "      <td>Senior U.S. Republican senator: 'Let Mr. Muell...</td>\n",
       "      <td>WASHINGTON (Reuters) - The special counsel inv...</td>\n",
       "      <td>politicsNews</td>\n",
       "      <td>December 31, 2017</td>\n",
       "    </tr>\n",
       "    <tr>\n",
       "      <th>3</th>\n",
       "      <td>FBI Russia probe helped by Australian diplomat...</td>\n",
       "      <td>WASHINGTON (Reuters) - Trump campaign adviser ...</td>\n",
       "      <td>politicsNews</td>\n",
       "      <td>December 30, 2017</td>\n",
       "    </tr>\n",
       "    <tr>\n",
       "      <th>4</th>\n",
       "      <td>Trump wants Postal Service to charge 'much mor...</td>\n",
       "      <td>SEATTLE/WASHINGTON (Reuters) - President Donal...</td>\n",
       "      <td>politicsNews</td>\n",
       "      <td>December 29, 2017</td>\n",
       "    </tr>\n",
       "  </tbody>\n",
       "</table>\n",
       "</div>"
      ],
      "text/plain": [
       "                                               title  \\\n",
       "0  As U.S. budget fight looms, Republicans flip t...   \n",
       "1  U.S. military to accept transgender recruits o...   \n",
       "2  Senior U.S. Republican senator: 'Let Mr. Muell...   \n",
       "3  FBI Russia probe helped by Australian diplomat...   \n",
       "4  Trump wants Postal Service to charge 'much mor...   \n",
       "\n",
       "                                                text       subject  \\\n",
       "0  WASHINGTON (Reuters) - The head of a conservat...  politicsNews   \n",
       "1  WASHINGTON (Reuters) - Transgender people will...  politicsNews   \n",
       "2  WASHINGTON (Reuters) - The special counsel inv...  politicsNews   \n",
       "3  WASHINGTON (Reuters) - Trump campaign adviser ...  politicsNews   \n",
       "4  SEATTLE/WASHINGTON (Reuters) - President Donal...  politicsNews   \n",
       "\n",
       "                 date  \n",
       "0  December 31, 2017   \n",
       "1  December 29, 2017   \n",
       "2  December 31, 2017   \n",
       "3  December 30, 2017   \n",
       "4  December 29, 2017   "
      ]
     },
     "execution_count": 5,
     "metadata": {},
     "output_type": "execute_result"
    }
   ],
   "source": [
    "df_true.head()"
   ]
  },
  {
   "cell_type": "code",
   "execution_count": 6,
   "metadata": {},
   "outputs": [],
   "source": [
    "df_fake['class'] = 0\n",
    "df_true['class'] = 1"
   ]
  },
  {
   "cell_type": "code",
   "execution_count": 7,
   "metadata": {},
   "outputs": [
    {
     "data": {
      "text/plain": [
       "((23481, 5), (21417, 5))"
      ]
     },
     "execution_count": 7,
     "metadata": {},
     "output_type": "execute_result"
    }
   ],
   "source": [
    "df_fake.shape, df_true.shape"
   ]
  },
  {
   "cell_type": "code",
   "execution_count": 8,
   "metadata": {},
   "outputs": [],
   "source": [
    "df_fake_manual_testing = df_fake.tail(10)\n",
    "for i in range(23480, 23470, -1):\n",
    "    df_fake.drop([i], axis=0, inplace=True)\n",
    "    \n",
    "df_true_manual_testing = df_true.tail(10)\n",
    "for i in range(21416, 21406, -1):\n",
    "    df_true.drop([i], axis=0, inplace=True)"
   ]
  },
  {
   "cell_type": "code",
   "execution_count": 9,
   "metadata": {},
   "outputs": [],
   "source": [
    "#combine dfs in single df\n",
    "df_manual_testing = pd.concat([df_fake_manual_testing, df_true_manual_testing], axis=0)"
   ]
  },
  {
   "cell_type": "code",
   "execution_count": 10,
   "metadata": {},
   "outputs": [],
   "source": [
    "#save as csv\n",
    "df_manual_testing.to_csv('manual_testing.csv')"
   ]
  },
  {
   "cell_type": "code",
   "execution_count": 11,
   "metadata": {},
   "outputs": [
    {
     "data": {
      "text/html": [
       "<div>\n",
       "<style scoped>\n",
       "    .dataframe tbody tr th:only-of-type {\n",
       "        vertical-align: middle;\n",
       "    }\n",
       "\n",
       "    .dataframe tbody tr th {\n",
       "        vertical-align: top;\n",
       "    }\n",
       "\n",
       "    .dataframe thead th {\n",
       "        text-align: right;\n",
       "    }\n",
       "</style>\n",
       "<table border=\"1\" class=\"dataframe\">\n",
       "  <thead>\n",
       "    <tr style=\"text-align: right;\">\n",
       "      <th></th>\n",
       "      <th>title</th>\n",
       "      <th>text</th>\n",
       "      <th>subject</th>\n",
       "      <th>date</th>\n",
       "      <th>class</th>\n",
       "    </tr>\n",
       "  </thead>\n",
       "  <tbody>\n",
       "    <tr>\n",
       "      <th>0</th>\n",
       "      <td>Donald Trump Sends Out Embarrassing New Year’...</td>\n",
       "      <td>Donald Trump just couldn t wish all Americans ...</td>\n",
       "      <td>News</td>\n",
       "      <td>December 31, 2017</td>\n",
       "      <td>0</td>\n",
       "    </tr>\n",
       "    <tr>\n",
       "      <th>1</th>\n",
       "      <td>Drunk Bragging Trump Staffer Started Russian ...</td>\n",
       "      <td>House Intelligence Committee Chairman Devin Nu...</td>\n",
       "      <td>News</td>\n",
       "      <td>December 31, 2017</td>\n",
       "      <td>0</td>\n",
       "    </tr>\n",
       "    <tr>\n",
       "      <th>2</th>\n",
       "      <td>Sheriff David Clarke Becomes An Internet Joke...</td>\n",
       "      <td>On Friday, it was revealed that former Milwauk...</td>\n",
       "      <td>News</td>\n",
       "      <td>December 30, 2017</td>\n",
       "      <td>0</td>\n",
       "    </tr>\n",
       "    <tr>\n",
       "      <th>3</th>\n",
       "      <td>Trump Is So Obsessed He Even Has Obama’s Name...</td>\n",
       "      <td>On Christmas day, Donald Trump announced that ...</td>\n",
       "      <td>News</td>\n",
       "      <td>December 29, 2017</td>\n",
       "      <td>0</td>\n",
       "    </tr>\n",
       "    <tr>\n",
       "      <th>4</th>\n",
       "      <td>Pope Francis Just Called Out Donald Trump Dur...</td>\n",
       "      <td>Pope Francis used his annual Christmas Day mes...</td>\n",
       "      <td>News</td>\n",
       "      <td>December 25, 2017</td>\n",
       "      <td>0</td>\n",
       "    </tr>\n",
       "  </tbody>\n",
       "</table>\n",
       "</div>"
      ],
      "text/plain": [
       "                                               title  \\\n",
       "0   Donald Trump Sends Out Embarrassing New Year’...   \n",
       "1   Drunk Bragging Trump Staffer Started Russian ...   \n",
       "2   Sheriff David Clarke Becomes An Internet Joke...   \n",
       "3   Trump Is So Obsessed He Even Has Obama’s Name...   \n",
       "4   Pope Francis Just Called Out Donald Trump Dur...   \n",
       "\n",
       "                                                text subject  \\\n",
       "0  Donald Trump just couldn t wish all Americans ...    News   \n",
       "1  House Intelligence Committee Chairman Devin Nu...    News   \n",
       "2  On Friday, it was revealed that former Milwauk...    News   \n",
       "3  On Christmas day, Donald Trump announced that ...    News   \n",
       "4  Pope Francis used his annual Christmas Day mes...    News   \n",
       "\n",
       "                date  class  \n",
       "0  December 31, 2017      0  \n",
       "1  December 31, 2017      0  \n",
       "2  December 30, 2017      0  \n",
       "3  December 29, 2017      0  \n",
       "4  December 25, 2017      0  "
      ]
     },
     "execution_count": 11,
     "metadata": {},
     "output_type": "execute_result"
    }
   ],
   "source": [
    "#merge original dfs\n",
    "df_merge = pd.concat([df_fake, df_true], axis=0)\n",
    "df_merge.head()"
   ]
  },
  {
   "cell_type": "code",
   "execution_count": 12,
   "metadata": {},
   "outputs": [
    {
     "data": {
      "text/html": [
       "<div>\n",
       "<style scoped>\n",
       "    .dataframe tbody tr th:only-of-type {\n",
       "        vertical-align: middle;\n",
       "    }\n",
       "\n",
       "    .dataframe tbody tr th {\n",
       "        vertical-align: top;\n",
       "    }\n",
       "\n",
       "    .dataframe thead th {\n",
       "        text-align: right;\n",
       "    }\n",
       "</style>\n",
       "<table border=\"1\" class=\"dataframe\">\n",
       "  <thead>\n",
       "    <tr style=\"text-align: right;\">\n",
       "      <th></th>\n",
       "      <th>text</th>\n",
       "      <th>class</th>\n",
       "    </tr>\n",
       "  </thead>\n",
       "  <tbody>\n",
       "    <tr>\n",
       "      <th>0</th>\n",
       "      <td>Donald Trump just couldn t wish all Americans ...</td>\n",
       "      <td>0</td>\n",
       "    </tr>\n",
       "    <tr>\n",
       "      <th>1</th>\n",
       "      <td>House Intelligence Committee Chairman Devin Nu...</td>\n",
       "      <td>0</td>\n",
       "    </tr>\n",
       "    <tr>\n",
       "      <th>2</th>\n",
       "      <td>On Friday, it was revealed that former Milwauk...</td>\n",
       "      <td>0</td>\n",
       "    </tr>\n",
       "    <tr>\n",
       "      <th>3</th>\n",
       "      <td>On Christmas day, Donald Trump announced that ...</td>\n",
       "      <td>0</td>\n",
       "    </tr>\n",
       "    <tr>\n",
       "      <th>4</th>\n",
       "      <td>Pope Francis used his annual Christmas Day mes...</td>\n",
       "      <td>0</td>\n",
       "    </tr>\n",
       "  </tbody>\n",
       "</table>\n",
       "</div>"
      ],
      "text/plain": [
       "                                                text  class\n",
       "0  Donald Trump just couldn t wish all Americans ...      0\n",
       "1  House Intelligence Committee Chairman Devin Nu...      0\n",
       "2  On Friday, it was revealed that former Milwauk...      0\n",
       "3  On Christmas day, Donald Trump announced that ...      0\n",
       "4  Pope Francis used his annual Christmas Day mes...      0"
      ]
     },
     "execution_count": 12,
     "metadata": {},
     "output_type": "execute_result"
    }
   ],
   "source": [
    "#drop unnecessary columns\n",
    "df = df_merge.drop(['title', 'subject', 'date'], axis=1)\n",
    "df.head()"
   ]
  },
  {
   "cell_type": "code",
   "execution_count": 13,
   "metadata": {},
   "outputs": [
    {
     "data": {
      "text/html": [
       "<div>\n",
       "<style scoped>\n",
       "    .dataframe tbody tr th:only-of-type {\n",
       "        vertical-align: middle;\n",
       "    }\n",
       "\n",
       "    .dataframe tbody tr th {\n",
       "        vertical-align: top;\n",
       "    }\n",
       "\n",
       "    .dataframe thead th {\n",
       "        text-align: right;\n",
       "    }\n",
       "</style>\n",
       "<table border=\"1\" class=\"dataframe\">\n",
       "  <thead>\n",
       "    <tr style=\"text-align: right;\">\n",
       "      <th></th>\n",
       "      <th>text</th>\n",
       "      <th>class</th>\n",
       "    </tr>\n",
       "  </thead>\n",
       "  <tbody>\n",
       "    <tr>\n",
       "      <th>15394</th>\n",
       "      <td>Career criminals professional grifters the ult...</td>\n",
       "      <td>0</td>\n",
       "    </tr>\n",
       "    <tr>\n",
       "      <th>19488</th>\n",
       "      <td>PARIS (Reuters) - Marine Le Pen, the leader of...</td>\n",
       "      <td>1</td>\n",
       "    </tr>\n",
       "    <tr>\n",
       "      <th>5062</th>\n",
       "      <td>In a continuation of the DNC hack, Democratic ...</td>\n",
       "      <td>0</td>\n",
       "    </tr>\n",
       "    <tr>\n",
       "      <th>18149</th>\n",
       "      <td>Pro-Trump supporters have known the truth for ...</td>\n",
       "      <td>0</td>\n",
       "    </tr>\n",
       "    <tr>\n",
       "      <th>11825</th>\n",
       "      <td>ISTANBUL (Reuters) - Turkish President Tayyip ...</td>\n",
       "      <td>1</td>\n",
       "    </tr>\n",
       "  </tbody>\n",
       "</table>\n",
       "</div>"
      ],
      "text/plain": [
       "                                                    text  class\n",
       "15394  Career criminals professional grifters the ult...      0\n",
       "19488  PARIS (Reuters) - Marine Le Pen, the leader of...      1\n",
       "5062   In a continuation of the DNC hack, Democratic ...      0\n",
       "18149  Pro-Trump supporters have known the truth for ...      0\n",
       "11825  ISTANBUL (Reuters) - Turkish President Tayyip ...      1"
      ]
     },
     "execution_count": 13,
     "metadata": {},
     "output_type": "execute_result"
    }
   ],
   "source": [
    "#shuffle df\n",
    "df = df.sample(frac=1)\n",
    "df.head()"
   ]
  },
  {
   "cell_type": "code",
   "execution_count": 14,
   "metadata": {},
   "outputs": [],
   "source": [
    "df.reset_index(inplace = True)\n",
    "df.drop(['index'], axis = 1, inplace = True)"
   ]
  },
  {
   "cell_type": "code",
   "execution_count": 15,
   "metadata": {},
   "outputs": [
    {
     "data": {
      "text/plain": [
       "text     0\n",
       "class    0\n",
       "dtype: int64"
      ]
     },
     "execution_count": 15,
     "metadata": {},
     "output_type": "execute_result"
    }
   ],
   "source": [
    "#check for null values\n",
    "df.isnull().sum()"
   ]
  },
  {
   "cell_type": "code",
   "execution_count": 16,
   "metadata": {},
   "outputs": [],
   "source": [
    "#remove special characters/punctuation\n",
    "def word_drop(text):\n",
    "    text = text.lower()\n",
    "    text = re.sub('\\[.*?\\]', '', text)\n",
    "    text = re.sub(\"\\\\W\",\" \",text) \n",
    "    text = re.sub('https?://\\S+|www\\.\\S+', '', text)\n",
    "    text = re.sub('<.*?>+', '', text)\n",
    "    text = re.sub('[%s]' % re.escape(string.punctuation), '', text)\n",
    "    text = re.sub('\\n', '', text)\n",
    "    text = re.sub('\\w*\\d\\w*', '', text)    \n",
    "    return text"
   ]
  },
  {
   "cell_type": "code",
   "execution_count": 17,
   "metadata": {},
   "outputs": [],
   "source": [
    "df['text'] = df['text'].apply(word_drop)"
   ]
  },
  {
   "cell_type": "code",
   "execution_count": 18,
   "metadata": {},
   "outputs": [
    {
     "data": {
      "text/html": [
       "<div>\n",
       "<style scoped>\n",
       "    .dataframe tbody tr th:only-of-type {\n",
       "        vertical-align: middle;\n",
       "    }\n",
       "\n",
       "    .dataframe tbody tr th {\n",
       "        vertical-align: top;\n",
       "    }\n",
       "\n",
       "    .dataframe thead th {\n",
       "        text-align: right;\n",
       "    }\n",
       "</style>\n",
       "<table border=\"1\" class=\"dataframe\">\n",
       "  <thead>\n",
       "    <tr style=\"text-align: right;\">\n",
       "      <th></th>\n",
       "      <th>text</th>\n",
       "      <th>class</th>\n",
       "    </tr>\n",
       "  </thead>\n",
       "  <tbody>\n",
       "    <tr>\n",
       "      <th>0</th>\n",
       "      <td>career criminals professional grifters the ult...</td>\n",
       "      <td>0</td>\n",
       "    </tr>\n",
       "    <tr>\n",
       "      <th>1</th>\n",
       "      <td>paris  reuters    marine le pen  the leader of...</td>\n",
       "      <td>1</td>\n",
       "    </tr>\n",
       "    <tr>\n",
       "      <th>2</th>\n",
       "      <td>in a continuation of the dnc hack  democratic ...</td>\n",
       "      <td>0</td>\n",
       "    </tr>\n",
       "    <tr>\n",
       "      <th>3</th>\n",
       "      <td>pro trump supporters have known the truth for ...</td>\n",
       "      <td>0</td>\n",
       "    </tr>\n",
       "    <tr>\n",
       "      <th>4</th>\n",
       "      <td>istanbul  reuters    turkish president tayyip ...</td>\n",
       "      <td>1</td>\n",
       "    </tr>\n",
       "    <tr>\n",
       "      <th>5</th>\n",
       "      <td>what is it that they don t get  does anyone ev...</td>\n",
       "      <td>0</td>\n",
       "    </tr>\n",
       "    <tr>\n",
       "      <th>6</th>\n",
       "      <td>washington  reuters    the presidents of the u...</td>\n",
       "      <td>1</td>\n",
       "    </tr>\n",
       "    <tr>\n",
       "      <th>7</th>\n",
       "      <td>washington  reuters    a revised criminal just...</td>\n",
       "      <td>1</td>\n",
       "    </tr>\n",
       "    <tr>\n",
       "      <th>8</th>\n",
       "      <td>paul ryan nervously giggled during the republi...</td>\n",
       "      <td>0</td>\n",
       "    </tr>\n",
       "    <tr>\n",
       "      <th>9</th>\n",
       "      <td>aden  reuters    security forces in the southe...</td>\n",
       "      <td>1</td>\n",
       "    </tr>\n",
       "  </tbody>\n",
       "</table>\n",
       "</div>"
      ],
      "text/plain": [
       "                                                text  class\n",
       "0  career criminals professional grifters the ult...      0\n",
       "1  paris  reuters    marine le pen  the leader of...      1\n",
       "2  in a continuation of the dnc hack  democratic ...      0\n",
       "3  pro trump supporters have known the truth for ...      0\n",
       "4  istanbul  reuters    turkish president tayyip ...      1\n",
       "5  what is it that they don t get  does anyone ev...      0\n",
       "6  washington  reuters    the presidents of the u...      1\n",
       "7  washington  reuters    a revised criminal just...      1\n",
       "8  paul ryan nervously giggled during the republi...      0\n",
       "9  aden  reuters    security forces in the southe...      1"
      ]
     },
     "execution_count": 18,
     "metadata": {},
     "output_type": "execute_result"
    }
   ],
   "source": [
    "df.head(10)"
   ]
  },
  {
   "cell_type": "code",
   "execution_count": 19,
   "metadata": {},
   "outputs": [],
   "source": [
    "#define independent and dependent variables\n",
    "x = df['text']\n",
    "y = df['class']"
   ]
  },
  {
   "cell_type": "code",
   "execution_count": 20,
   "metadata": {},
   "outputs": [],
   "source": [
    "#split dataset into train/test set\n",
    "x_train, x_test, y_train, y_test = train_test_split(x, y, test_size=0.25)"
   ]
  },
  {
   "cell_type": "code",
   "execution_count": 21,
   "metadata": {},
   "outputs": [],
   "source": [
    "#vectorize x variable\n",
    "from sklearn.feature_extraction.text import TfidfVectorizer"
   ]
  },
  {
   "cell_type": "code",
   "execution_count": 22,
   "metadata": {},
   "outputs": [],
   "source": [
    "vectorization = TfidfVectorizer()\n",
    "xv_train = vectorization.fit_transform(x_train)\n",
    "xv_test = vectorization.transform(x_test)"
   ]
  },
  {
   "cell_type": "code",
   "execution_count": 23,
   "metadata": {},
   "outputs": [],
   "source": [
    "#apply logistic regression classification\n",
    "from sklearn.linear_model import LogisticRegression"
   ]
  },
  {
   "cell_type": "code",
   "execution_count": 24,
   "metadata": {},
   "outputs": [
    {
     "data": {
      "text/plain": [
       "LogisticRegression()"
      ]
     },
     "execution_count": 24,
     "metadata": {},
     "output_type": "execute_result"
    }
   ],
   "source": [
    "LR = LogisticRegression()\n",
    "LR.fit(xv_train,y_train)"
   ]
  },
  {
   "cell_type": "code",
   "execution_count": 25,
   "metadata": {},
   "outputs": [],
   "source": [
    "pred_lr = LR.predict(xv_test)"
   ]
  },
  {
   "cell_type": "code",
   "execution_count": 26,
   "metadata": {},
   "outputs": [
    {
     "data": {
      "text/plain": [
       "0.9871657754010695"
      ]
     },
     "execution_count": 26,
     "metadata": {},
     "output_type": "execute_result"
    }
   ],
   "source": [
    "LR.score(xv_test, y_test)"
   ]
  },
  {
   "cell_type": "code",
   "execution_count": 27,
   "metadata": {},
   "outputs": [
    {
     "name": "stdout",
     "output_type": "stream",
     "text": [
      "              precision    recall  f1-score   support\n",
      "\n",
      "           0       0.99      0.99      0.99      5902\n",
      "           1       0.98      0.99      0.99      5318\n",
      "\n",
      "    accuracy                           0.99     11220\n",
      "   macro avg       0.99      0.99      0.99     11220\n",
      "weighted avg       0.99      0.99      0.99     11220\n",
      "\n"
     ]
    }
   ],
   "source": [
    "print(classification_report(y_test, pred_lr))"
   ]
  },
  {
   "cell_type": "code",
   "execution_count": 28,
   "metadata": {},
   "outputs": [],
   "source": [
    "#apply decision tree classification\n",
    "from sklearn.tree import DecisionTreeClassifier"
   ]
  },
  {
   "cell_type": "code",
   "execution_count": 29,
   "metadata": {},
   "outputs": [
    {
     "data": {
      "text/plain": [
       "DecisionTreeClassifier()"
      ]
     },
     "execution_count": 29,
     "metadata": {},
     "output_type": "execute_result"
    }
   ],
   "source": [
    "DT = DecisionTreeClassifier()\n",
    "DT.fit(xv_train, y_train)"
   ]
  },
  {
   "cell_type": "code",
   "execution_count": 30,
   "metadata": {},
   "outputs": [],
   "source": [
    "pred_dt = DT.predict(xv_test)"
   ]
  },
  {
   "cell_type": "code",
   "execution_count": 31,
   "metadata": {},
   "outputs": [
    {
     "data": {
      "text/plain": [
       "0.9952762923351158"
      ]
     },
     "execution_count": 31,
     "metadata": {},
     "output_type": "execute_result"
    }
   ],
   "source": [
    "DT.score(xv_test, y_test)"
   ]
  },
  {
   "cell_type": "code",
   "execution_count": 32,
   "metadata": {},
   "outputs": [
    {
     "name": "stdout",
     "output_type": "stream",
     "text": [
      "              precision    recall  f1-score   support\n",
      "\n",
      "           0       1.00      1.00      1.00      5902\n",
      "           1       1.00      0.99      1.00      5318\n",
      "\n",
      "    accuracy                           1.00     11220\n",
      "   macro avg       1.00      1.00      1.00     11220\n",
      "weighted avg       1.00      1.00      1.00     11220\n",
      "\n"
     ]
    }
   ],
   "source": [
    "print(classification_report(y_test, pred_dt))"
   ]
  },
  {
   "cell_type": "code",
   "execution_count": 33,
   "metadata": {},
   "outputs": [],
   "source": [
    "#apply gradient boosting classification\n",
    "from sklearn.ensemble import GradientBoostingClassifier"
   ]
  },
  {
   "cell_type": "code",
   "execution_count": null,
   "metadata": {},
   "outputs": [],
   "source": [
    "GBC = GradientBoostingClassifier(random_state=0)\n",
    "GBC.fit(xv_train, y_train)"
   ]
  },
  {
   "cell_type": "code",
   "execution_count": 35,
   "metadata": {},
   "outputs": [],
   "source": [
    "pred_gbc = GBC.predict(xv_test)"
   ]
  },
  {
   "cell_type": "code",
   "execution_count": 36,
   "metadata": {},
   "outputs": [
    {
     "data": {
      "text/plain": [
       "0.9945632798573975"
      ]
     },
     "execution_count": 36,
     "metadata": {},
     "output_type": "execute_result"
    }
   ],
   "source": [
    "GBC.score(xv_test, y_test)"
   ]
  },
  {
   "cell_type": "code",
   "execution_count": 37,
   "metadata": {},
   "outputs": [
    {
     "name": "stdout",
     "output_type": "stream",
     "text": [
      "              precision    recall  f1-score   support\n",
      "\n",
      "           0       1.00      0.99      0.99      5902\n",
      "           1       0.99      1.00      0.99      5318\n",
      "\n",
      "    accuracy                           0.99     11220\n",
      "   macro avg       0.99      0.99      0.99     11220\n",
      "weighted avg       0.99      0.99      0.99     11220\n",
      "\n"
     ]
    }
   ],
   "source": [
    "print(classification_report(y_test, pred_gbc))"
   ]
  },
  {
   "cell_type": "code",
   "execution_count": 38,
   "metadata": {},
   "outputs": [],
   "source": [
    "#apply random forest classification\n",
    "from sklearn.ensemble import RandomForestClassifier"
   ]
  },
  {
   "cell_type": "code",
   "execution_count": 39,
   "metadata": {},
   "outputs": [
    {
     "data": {
      "text/plain": [
       "RandomForestClassifier(random_state=0)"
      ]
     },
     "execution_count": 39,
     "metadata": {},
     "output_type": "execute_result"
    }
   ],
   "source": [
    "RFC = RandomForestClassifier(random_state=0)\n",
    "RFC.fit(xv_train, y_train)"
   ]
  },
  {
   "cell_type": "code",
   "execution_count": 40,
   "metadata": {},
   "outputs": [],
   "source": [
    "pred_rfc = RFC.predict(xv_test)"
   ]
  },
  {
   "cell_type": "code",
   "execution_count": 41,
   "metadata": {},
   "outputs": [
    {
     "data": {
      "text/plain": [
       "0.9903743315508021"
      ]
     },
     "execution_count": 41,
     "metadata": {},
     "output_type": "execute_result"
    }
   ],
   "source": [
    "RFC.score(xv_test, y_test)"
   ]
  },
  {
   "cell_type": "code",
   "execution_count": 42,
   "metadata": {},
   "outputs": [
    {
     "name": "stdout",
     "output_type": "stream",
     "text": [
      "              precision    recall  f1-score   support\n",
      "\n",
      "           0       0.99      0.99      0.99      5902\n",
      "           1       0.99      0.99      0.99      5318\n",
      "\n",
      "    accuracy                           0.99     11220\n",
      "   macro avg       0.99      0.99      0.99     11220\n",
      "weighted avg       0.99      0.99      0.99     11220\n",
      "\n"
     ]
    }
   ],
   "source": [
    "print(classification_report(y_test, pred_rfc))"
   ]
  },
  {
   "cell_type": "code",
   "execution_count": 43,
   "metadata": {},
   "outputs": [],
   "source": [
    "#model testing with the manual dataset\n",
    "def output_lable(n):\n",
    "    if n == 0:\n",
    "        return \"Fake News\"\n",
    "    elif n == 1:\n",
    "        return \"Not A Fake News\"\n",
    "    \n",
    "def manual_testing(news):\n",
    "    testing_news = {\"text\":[news]}\n",
    "    new_def_test = pd.DataFrame(testing_news)\n",
    "    new_def_test[\"text\"] = new_def_test[\"text\"].apply(word_drop) \n",
    "    new_x_test = new_def_test[\"text\"]\n",
    "    new_xv_test = vectorization.transform(new_x_test)\n",
    "    pred_LR = LR.predict(new_xv_test)\n",
    "    pred_DT = DT.predict(new_xv_test)\n",
    "    pred_GBC = GBC.predict(new_xv_test)\n",
    "    pred_RFC = RFC.predict(new_xv_test)\n",
    "\n",
    "    return print(\"\\n\\nLR Prediction: {} \\nDT Prediction: {} \\nGBC Prediction: {} \\nRFC Prediction: {}\".format(output_lable(pred_LR[0]), \n",
    "                                                                                                              output_lable(pred_DT[0]), \n",
    "                                                                                                              output_lable(pred_GBC[0]), \n",
    "                                                                                                              output_lable(pred_RFC[0])))"
   ]
  },
  {
   "cell_type": "code",
   "execution_count": null,
   "metadata": {},
   "outputs": [],
   "source": [
    "#input text from csv file to blank\n",
    "news = str(input())\n",
    "manual_testing(news)"
   ]
  },
  {
   "cell_type": "code",
   "execution_count": null,
   "metadata": {},
   "outputs": [],
   "source": []
  }
 ],
 "metadata": {
  "kernelspec": {
   "display_name": "Python 3",
   "language": "python",
   "name": "python3"
  },
  "language_info": {
   "codemirror_mode": {
    "name": "ipython",
    "version": 3
   },
   "file_extension": ".py",
   "mimetype": "text/x-python",
   "name": "python",
   "nbconvert_exporter": "python",
   "pygments_lexer": "ipython3",
   "version": "3.8.5"
  }
 },
 "nbformat": 4,
 "nbformat_minor": 4
}
